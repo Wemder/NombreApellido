{
  "nbformat": 4,
  "nbformat_minor": 0,
  "metadata": {
    "colab": {
      "provenance": [],
      "collapsed_sections": [],
      "include_colab_link": true
    },
    "kernelspec": {
      "name": "python3",
      "display_name": "Python 3"
    }
  },
  "cells": [
    {
      "cell_type": "markdown",
      "metadata": {
        "id": "view-in-github",
        "colab_type": "text"
      },
      "source": [
        "<a href=\"https://colab.research.google.com/github/Wemder/NombreApellido/blob/master/Copia_de_Colab_RDP.ipynb\" target=\"_parent\"><img src=\"https://colab.research.google.com/assets/colab-badge.svg\" alt=\"Open In Colab\"/></a>"
      ]
    },
    {
      "cell_type": "code",
      "source": [
        "class  miClase ():\n",
        "def __init__(self):\n",
        "print('hola mu,ndo')"
      ],
      "metadata": {
        "id": "QQvxtEq704iK"
      },
      "execution_count": null,
      "outputs": []
    },
    {
      "cell_type": "code",
      "source": [
        "miObeto = miClase()"
      ],
      "metadata": {
        "id": "-eIb1EZ8045k"
      },
      "execution_count": null,
      "outputs": []
    },
    {
      "cell_type": "markdown",
      "source": [],
      "metadata": {
        "id": "9Z7jhTj11rl-"
      }
    },
    {
      "cell_type": "code",
      "source": [
        "class miClase ():\n",
        "  atributoClase = 100\n",
        "\n",
        "  def __init__(self, unParametro):\n",
        "    self.unParametro = unParametro\n",
        "    print(\"Me as pasado parametro: {}\".format(unParametro))"
      ],
      "metadata": {
        "id": "dGpFQMWi3EfX"
      },
      "execution_count": null,
      "outputs": []
    },
    {
      "cell_type": "code",
      "source": [
        "class alcanceClase():\n",
        "   def __init__(self):\n",
        "     set.__oculto=\"Meencutro oculto en la Clase\"\n",
        "   def publico(self):\n",
        "       return \"soy metodo publico , a la vista de todo\"\n",
        "   def __private(self):\n",
        "         return \"soy metodo Privado\"\n",
        "   def get_oculto(self):\n",
        "           return self.__oculto\n"
      ],
      "metadata": {
        "id": "8hO4dbog4ore"
      },
      "execution_count": null,
      "outputs": []
    },
    {
      "cell_type": "code",
      "source": [
        "objeto = alcanceClase()\n"
      ],
      "metadata": {
        "id": "6nwIP2Ir7PeH"
      },
      "execution_count": null,
      "outputs": []
    },
    {
      "cell_type": "code",
      "source": [
        "print(objeto.publico())\n",
        "print(objeto.alcanceClase__privado())\n",
        "print(objeto.get_oculto())"
      ],
      "metadata": {
        "id": "1n-e0hPV7x0V"
      },
      "execution_count": null,
      "outputs": []
    },
    {
      "cell_type": "code",
      "source": [
        "#comentario de una sola Linea\n",
        "'''\n",
        "escribir program que pida al usuario una  palabra  y la  muestra \n",
        "por la talla  10 veces'''\n",
        "for  iterador in range(10):\n",
        "  print (str(interador), sep = '**' , end='#')"
      ],
      "metadata": {
        "id": "za5bSx-V-aBq"
      },
      "execution_count": null,
      "outputs": []
    },
    {
      "cell_type": "code",
      "source": [
        "'''\n",
        "\n",
        "'''\n",
        "numero=int(input(\"indica un numero: \"))\n",
        "print(triangulo(numero))\n",
        "def triangulo(n):\n",
        "  \n",
        "    return \"\\n\".join([\" \"*(n-i)+\"*\"*(i+i-1) for i in range(1,n+1)])\n",
        " \n"
      ],
      "metadata": {
        "id": "ugp0QcLeAYqy",
        "colab": {
          "base_uri": "https://localhost:8080/",
          "height": 263
        },
        "outputId": "b03e81a2-24d9-4c13-cd14-d788849952c2"
      },
      "execution_count": null,
      "outputs": [
        {
          "name": "stdout",
          "output_type": "stream",
          "text": [
            "indica un numero: 09\n"
          ]
        },
        {
          "output_type": "error",
          "ename": "NameError",
          "evalue": "ignored",
          "traceback": [
            "\u001b[0;31m---------------------------------------------------------------------------\u001b[0m",
            "\u001b[0;31mNameError\u001b[0m                                 Traceback (most recent call last)",
            "\u001b[0;32m<ipython-input-7-fd7273247916>\u001b[0m in \u001b[0;36m<module>\u001b[0;34m\u001b[0m\n\u001b[1;32m      3\u001b[0m '''\n\u001b[1;32m      4\u001b[0m \u001b[0mnumero\u001b[0m\u001b[0;34m=\u001b[0m\u001b[0mint\u001b[0m\u001b[0;34m(\u001b[0m\u001b[0minput\u001b[0m\u001b[0;34m(\u001b[0m\u001b[0;34m\"indica un numero: \"\u001b[0m\u001b[0;34m)\u001b[0m\u001b[0;34m)\u001b[0m\u001b[0;34m\u001b[0m\u001b[0;34m\u001b[0m\u001b[0m\n\u001b[0;32m----> 5\u001b[0;31m \u001b[0mprint\u001b[0m\u001b[0;34m(\u001b[0m\u001b[0mtriangulo\u001b[0m\u001b[0;34m(\u001b[0m\u001b[0mnumero\u001b[0m\u001b[0;34m)\u001b[0m\u001b[0;34m)\u001b[0m\u001b[0;34m\u001b[0m\u001b[0;34m\u001b[0m\u001b[0m\n\u001b[0m\u001b[1;32m      6\u001b[0m \u001b[0;32mdef\u001b[0m \u001b[0mtriangulo\u001b[0m\u001b[0;34m(\u001b[0m\u001b[0mn\u001b[0m\u001b[0;34m)\u001b[0m\u001b[0;34m:\u001b[0m\u001b[0;34m\u001b[0m\u001b[0;34m\u001b[0m\u001b[0m\n\u001b[1;32m      7\u001b[0m \u001b[0;34m\u001b[0m\u001b[0m\n",
            "\u001b[0;31mNameError\u001b[0m: name 'triangulo' is not defined"
          ]
        }
      ]
    },
    {
      "cell_type": "code",
      "source": [
        "lista1 = ['a','b','c']"
      ],
      "metadata": {
        "id": "ef--WawNEI4F"
      },
      "execution_count": null,
      "outputs": []
    },
    {
      "cell_type": "code",
      "source": [
        "lista1"
      ],
      "metadata": {
        "id": "m4x-K6IVE9zG",
        "outputId": "09522fe4-1b45-4589-8827-3e64f7ffe26f",
        "colab": {
          "base_uri": "https://localhost:8080/"
        }
      },
      "execution_count": null,
      "outputs": [
        {
          "output_type": "execute_result",
          "data": {
            "text/plain": [
              "['a', 'b', 'c']"
            ]
          },
          "metadata": {},
          "execution_count": 46
        }
      ]
    },
    {
      "cell_type": "code",
      "source": [
        "print(lista1)"
      ],
      "metadata": {
        "id": "cJrbvmdmFBeX",
        "outputId": "4f7f7946-43f5-42ad-8099-b7f073d251f8",
        "colab": {
          "base_uri": "https://localhost:8080/"
        }
      },
      "execution_count": null,
      "outputs": [
        {
          "output_type": "stream",
          "name": "stdout",
          "text": [
            "['a', 'b', 'c']\n"
          ]
        }
      ]
    },
    {
      "cell_type": "code",
      "source": [
        "lista2 = ['1','2','3']"
      ],
      "metadata": {
        "id": "PxVT_gNAFGtt"
      },
      "execution_count": null,
      "outputs": []
    },
    {
      "cell_type": "code",
      "source": [
        "lista2"
      ],
      "metadata": {
        "id": "Eyf45AyYFLsS",
        "outputId": "44a3306e-583c-4386-86d4-96bb3eeb6bcf",
        "colab": {
          "base_uri": "https://localhost:8080/"
        }
      },
      "execution_count": null,
      "outputs": [
        {
          "output_type": "execute_result",
          "data": {
            "text/plain": [
              "['1', '2', '3']"
            ]
          },
          "metadata": {},
          "execution_count": 49
        }
      ]
    },
    {
      "cell_type": "code",
      "source": [
        "lista3 = [lista1,lista2]\n",
        "lista3"
      ],
      "metadata": {
        "id": "eAA-RoYxFTFU",
        "outputId": "cd377090-3911-45e1-98f5-dafe42f21cf7",
        "colab": {
          "base_uri": "https://localhost:8080/"
        }
      },
      "execution_count": null,
      "outputs": [
        {
          "output_type": "execute_result",
          "data": {
            "text/plain": [
              "[['a', 'b', 'c'], ['1', '2', '3']]"
            ]
          },
          "metadata": {},
          "execution_count": 50
        }
      ]
    },
    {
      "cell_type": "code",
      "source": [
        "lista4 = [(3,5),(6,7)]\n",
        "lista4"
      ],
      "metadata": {
        "id": "F8kMv2m8FlAg",
        "outputId": "a86b316c-5e98-419d-9471-95b7fd1c344a",
        "colab": {
          "base_uri": "https://localhost:8080/"
        }
      },
      "execution_count": null,
      "outputs": [
        {
          "output_type": "execute_result",
          "data": {
            "text/plain": [
              "[(3, 5), (6, 7)]"
            ]
          },
          "metadata": {},
          "execution_count": 71
        }
      ]
    },
    {
      "cell_type": "code",
      "source": [
        "lista4.append(999)"
      ],
      "metadata": {
        "id": "K_I9FD4WF02v"
      },
      "execution_count": null,
      "outputs": []
    },
    {
      "cell_type": "code",
      "source": [
        "lista4"
      ],
      "metadata": {
        "id": "7Ef3bXZxGFyy"
      },
      "execution_count": null,
      "outputs": []
    },
    {
      "cell_type": "code",
      "source": [
        "lista4.reverse()\n",
        "lista4"
      ],
      "metadata": {
        "id": "CaRb_FGMGPCU",
        "outputId": "4fa05b4d-8e45-4829-8920-a472e9250ef2",
        "colab": {
          "base_uri": "https://localhost:8080/"
        }
      },
      "execution_count": null,
      "outputs": [
        {
          "output_type": "execute_result",
          "data": {
            "text/plain": [
              "[999, (6, 7), (3, 5)]"
            ]
          },
          "metadata": {},
          "execution_count": 57
        }
      ]
    },
    {
      "cell_type": "code",
      "source": [
        "lista4.remove(999)\n",
        "lista4"
      ],
      "metadata": {
        "id": "40qQfa3kG8-G",
        "outputId": "809b2420-398b-4e42-a613-86a59ce9b53d",
        "colab": {
          "base_uri": "https://localhost:8080/"
        }
      },
      "execution_count": null,
      "outputs": [
        {
          "output_type": "execute_result",
          "data": {
            "text/plain": [
              "[(6, 7), (3, 5)]"
            ]
          },
          "metadata": {},
          "execution_count": 58
        }
      ]
    },
    {
      "cell_type": "code",
      "source": [
        "lista4.extend(['Matematica','fisica','historia','lenguaje'])\n",
        "lista4"
      ],
      "metadata": {
        "id": "jgf1tsUlHEHq",
        "outputId": "d1344201-87cf-407a-982c-7fe8c680862e",
        "colab": {
          "base_uri": "https://localhost:8080/"
        }
      },
      "execution_count": null,
      "outputs": [
        {
          "output_type": "execute_result",
          "data": {
            "text/plain": [
              "[(3, 5), (6, 7), 'Matematica', 'fisica', 'historia', 'lenguaje']"
            ]
          },
          "metadata": {},
          "execution_count": 73
        }
      ]
    },
    {
      "cell_type": "code",
      "source": [
        "len(lista4)\n",
        "lista4.count('k')"
      ],
      "metadata": {
        "id": "MJVpg9ykHp_I",
        "outputId": "73fee78d-b396-4af8-954c-f0336c825c66",
        "colab": {
          "base_uri": "https://localhost:8080/"
        }
      },
      "execution_count": null,
      "outputs": [
        {
          "output_type": "execute_result",
          "data": {
            "text/plain": [
              "0"
            ]
          },
          "metadata": {},
          "execution_count": 72
        }
      ]
    },
    {
      "cell_type": "code",
      "source": [],
      "metadata": {
        "id": "zJab5oG5JJN6"
      },
      "execution_count": null,
      "outputs": []
    }
  ]
}